{
 "cells": [
  {
   "cell_type": "code",
   "execution_count": 1,
   "id": "413f6c71",
   "metadata": {},
   "outputs": [
    {
     "name": "stdout",
     "output_type": "stream",
     "text": [
      "Calculator\n",
      "Enter first number of your choice:345\n",
      "Enter second number of your choice:234\n",
      "Enter the operation you wanted of your choice:difference\n",
      "the difference of m and n is: 111\n"
     ]
    }
   ],
   "source": [
    "#It is an simple calculator that's used by us to find basic operations of any two numbers with user input command.\n",
    "print(\"Calculator\")\n",
    "m = input(\"Enter first number of your choice:\")\n",
    "n = input(\"Enter second number of your choice:\")\n",
    "operation = input(\"Enter the operation you wanted of your choice:\")\n",
    "sum = int(m)+int(n)\n",
    "difference = int(m)-int(n)\n",
    "product = int(m)*int(n)\n",
    "qoutient = int(m)/int(n)\n",
    "exponential = int(m)**int(n)\n",
    "modulus = int(m)%int(n)\n",
    "floordivision = int(m)//int(n)\n",
    "if operation == \"sum\":\n",
    "  print(\"the sum of m and n is:\", sum)\n",
    "elif operation == \"difference\":\n",
    "  print(\"the difference of m and n is:\", difference)\n",
    "elif operation == \"product\":\n",
    "  print(\"the product of m and n is:\", product)\n",
    "elif operation == \"qoutient\":\n",
    "  print(\"the qoutient of m and n is:\", qoutient)\n",
    "elif operation == \"exponential\":\n",
    "  print(\"the exponential of m and n is:\", exponential)\n",
    "elif operation == \"modulus\":\n",
    "  print(\"the modulus of m and n is:\", modulus)\n",
    "else:\n",
    "  print(\"the floor division of m and n is:\", floordivision)\n"
   ]
  }
 ],
 "metadata": {
  "kernelspec": {
   "display_name": "Python 3 (ipykernel)",
   "language": "python",
   "name": "python3"
  },
  "language_info": {
   "codemirror_mode": {
    "name": "ipython",
    "version": 3
   },
   "file_extension": ".py",
   "mimetype": "text/x-python",
   "name": "python",
   "nbconvert_exporter": "python",
   "pygments_lexer": "ipython3",
   "version": "3.11.5"
  }
 },
 "nbformat": 4,
 "nbformat_minor": 5
}
