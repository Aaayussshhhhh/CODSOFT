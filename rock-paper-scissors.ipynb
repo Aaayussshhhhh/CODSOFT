{
 "cells": [
  {
   "cell_type": "code",
   "execution_count": 1,
   "id": "315c2141",
   "metadata": {},
   "outputs": [
    {
     "name": "stdout",
     "output_type": "stream",
     "text": [
      "Welcome to the Rock-Paper-Scissors Game!\n",
      "Enter your choice (rock, paper, or scissors): rock\n",
      "\n",
      "You chose: rock\n",
      "Computer chose: rock\n",
      "It's a tie!\n",
      "Do you want to play again? (y/n): n\n",
      "Thank you for playing! Goodbye.\n"
     ]
    }
   ],
   "source": [
    "import random\n",
    "\n",
    "def user_choice_recieved():\n",
    "    choice = input(\"Enter your choice (rock, paper, or scissors): \").lower()\n",
    "    while choice not in ['rock', 'paper', 'scissors']:\n",
    "        print(\"Invalid choice. Please try again.\")\n",
    "        choice = input(\"Enter your choice (rock, paper, or scissors): \").lower()\n",
    "    return choice\n",
    "\n",
    "def computer_choice_recieved():\n",
    "    return random.choice(['rock', 'paper', 'scissors'])\n",
    "\n",
    "def choose_winner(user_choice, computer_choice):\n",
    "    if user_choice == computer_choice:\n",
    "        return \"It's a tie!\"\n",
    "    elif (user_choice == 'rock' and computer_choice == 'scissors') or \\\n",
    "         (user_choice == 'scissors' and computer_choice == 'paper') or \\\n",
    "         (user_choice == 'paper' and computer_choice == 'rock'):\n",
    "        return \"You win!\"\n",
    "    else:\n",
    "        return \"You lose!\"\n",
    "\n",
    "def play_game():\n",
    "    print(\"Welcome to the Rock-Paper-Scissors Game!\")\n",
    "    \n",
    "    while True:\n",
    "        user_choice = user_choice_recieved()\n",
    "        computer_choice = computer_choice_recieved()\n",
    "        \n",
    "        print(f\"\\nYou chose: {user_choice}\")\n",
    "        print(f\"Computer chose: {computer_choice}\")\n",
    "        \n",
    "        result = choose_winner(user_choice, computer_choice)\n",
    "        print(result)\n",
    "        \n",
    "        play_again = input(\"Do you want to play again? (y/n): \").strip().lower()\n",
    "        while play_again not in ['y', 'n']:\n",
    "            play_again = input(\"Please enter yes or no ('y' or 'n'):\").strip().lower()\n",
    "        if play_again == 'n':\n",
    "            break\n",
    "    \n",
    "    print(\"Thank you for playing! Goodbye.\")\n",
    "\n",
    "if __name__ == \"__main__\":\n",
    "    play_game()\n"
   ]
  },
  {
   "cell_type": "code",
   "execution_count": null,
   "id": "1a115343",
   "metadata": {},
   "outputs": [],
   "source": []
  },
  {
   "cell_type": "code",
   "execution_count": null,
   "id": "f99c5bcf",
   "metadata": {},
   "outputs": [],
   "source": []
  }
 ],
 "metadata": {
  "kernelspec": {
   "display_name": "Python 3 (ipykernel)",
   "language": "python",
   "name": "python3"
  },
  "language_info": {
   "codemirror_mode": {
    "name": "ipython",
    "version": 3
   },
   "file_extension": ".py",
   "mimetype": "text/x-python",
   "name": "python",
   "nbconvert_exporter": "python",
   "pygments_lexer": "ipython3",
   "version": "3.11.5"
  }
 },
 "nbformat": 4,
 "nbformat_minor": 5
}
